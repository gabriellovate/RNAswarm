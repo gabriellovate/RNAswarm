{
 "cells": [
  {
   "cell_type": "code",
   "execution_count": 1,
   "metadata": {},
   "outputs": [],
   "source": [
    "# Import functions for analysis of SPLASH np.arrays\n",
    "import io_ops as iops\n",
    "import find_interactions as fi\n",
    "import pandas as pd"
   ]
  },
  {
   "cell_type": "code",
   "execution_count": 13,
   "metadata": {},
   "outputs": [],
   "source": [
    "# Define file paths and viral features:\n",
    "DIRECTORY = \"/home/ru27wav/Projects/gl_iav-splash_freiburg\"\n",
    "INPUT = f\"{DIRECTORY}/data/arrays_test\"\n",
    "RESULT = f\"{DIRECTORY}/results/test\"\n",
    "iav_segments = [\"HA\",\"M\"]\n",
    "strains = [\"wt\", \"mut4xh4\", \"muts23\"]"
   ]
  },
  {
   "cell_type": "code",
   "execution_count": 3,
   "metadata": {},
   "outputs": [],
   "source": [
    "# Read the arrays from file and put them into dictionaries\n",
    "wt_d_repDir2Combinations, wt_d_combinations2arrays = iops.read_arrays(\n",
    "    f'{INPUT}/wt', iav_segments\n",
    ")\n",
    "\n",
    "muts23_d_repDir2Combinations, muts23_d_combinations2arrays = iops.read_arrays(\n",
    "    f'{INPUT}/muts23', iav_segments\n",
    ")\n",
    "\n",
    "mut4xh4_d_repDir2Combinations, mut4xh4_d_combinations2arrays = iops.read_arrays(\n",
    "    f'{INPUT}/mut4xh4', iav_segments\n",
    ")"
   ]
  },
  {
   "cell_type": "code",
   "execution_count": 4,
   "metadata": {},
   "outputs": [],
   "source": [
    "# Unpack the arrays and filter the regions with readcounts greater than the mean of all values...\n",
    "wt_d_combinations2arrays_filtered = {}\n",
    "for combination, arrays in wt_d_combinations2arrays.items():\n",
    "    for i in range(len(arrays)):\n",
    "        if i == 0:\n",
    "            wt_d_combinations2arrays_filtered[combination] = [fi.mean_filter(arrays[i])]\n",
    "        else:\n",
    "            wt_d_combinations2arrays_filtered[combination].append(\n",
    "                fi.mean_filter(arrays[i])\n",
    "            )\n",
    "\n",
    "muts23_d_combinations2arrays_filtered = {}\n",
    "for combination, arrays in muts23_d_combinations2arrays.items():\n",
    "    for i in range(len(arrays)):\n",
    "        if i == 0:\n",
    "            muts23_d_combinations2arrays_filtered[combination] = [fi.mean_filter(arrays[i])]\n",
    "        else:\n",
    "            muts23_d_combinations2arrays_filtered[combination].append(\n",
    "                fi.mean_filter(arrays[i])\n",
    "            )\n",
    "\n",
    "mut4xh4_d_combinations2arrays_filtered = {}\n",
    "for combination, arrays in mut4xh4_d_combinations2arrays.items():\n",
    "    for i in range(len(arrays)):\n",
    "        if i == 0:\n",
    "            mut4xh4_d_combinations2arrays_filtered[combination] = [fi.mean_filter(arrays[i])]\n",
    "        else:\n",
    "            mut4xh4_d_combinations2arrays_filtered[combination].append(\n",
    "                fi.mean_filter(arrays[i])\n",
    "            )"
   ]
  },
  {
   "cell_type": "code",
   "execution_count": 5,
   "metadata": {},
   "outputs": [],
   "source": [
    "# Merge the binary arrays\n",
    "# This is kind of a hack, it doesn't generalize very well\n",
    "\n",
    "d_combinations2arrays_combined = {}\n",
    "for combination, arrays in wt_d_combinations2arrays_filtered.items():\n",
    "    arrays.append(muts23_d_combinations2arrays_filtered[combination][0])\n",
    "    arrays.append(mut4xh4_d_combinations2arrays_filtered[combination][0])\n",
    "    d_combinations2arrays_combined[combination] = fi.combine_filters(arrays)\n"
   ]
  },
  {
   "cell_type": "code",
   "execution_count": 6,
   "metadata": {},
   "outputs": [],
   "source": [
    "# Create a dictionary of coordinates\n",
    "d_combinations2coordinates = {}\n",
    "for combination, array in d_combinations2arrays_combined.items():\n",
    "    d_combinations2coordinates[combination] = fi.extract_coordinates(array)"
   ]
  },
  {
   "cell_type": "code",
   "execution_count": 7,
   "metadata": {},
   "outputs": [],
   "source": [
    "# Create a dictionary of regions\n",
    "d_combinations2regions = {}\n",
    "for combination, coordinates in d_combinations2coordinates.items():\n",
    "    d_combinations2regions[combination] = fi.extract_regions(coordinates)"
   ]
  },
  {
   "cell_type": "code",
   "execution_count": 8,
   "metadata": {},
   "outputs": [],
   "source": [
    "# Create a dictionary of the mean countvalue for each region\n",
    "wt_d_combinations2means = {}\n",
    "for combination, regions in d_combinations2regions.items():\n",
    "    wt_d_combinations2means[combination] = [\n",
    "        fi.readcounts_to_means(regions, array)\n",
    "        for array in wt_d_combinations2arrays[combination]\n",
    "    ]\n",
    "\n",
    "muts23_d_combinations2means = {}\n",
    "for combination, regions in d_combinations2regions.items():\n",
    "    muts23_d_combinations2means[combination] = [\n",
    "        fi.readcounts_to_means(regions, array)\n",
    "        for array in muts23_d_combinations2arrays[combination]\n",
    "    ]\n",
    "\n",
    "mut4xh4_d_combinations2means = {}\n",
    "for combination, regions in d_combinations2regions.items():\n",
    "    mut4xh4_d_combinations2means[combination] = [\n",
    "        fi.readcounts_to_means(regions, array)\n",
    "        for array in mut4xh4_d_combinations2arrays[combination]\n",
    "    ]"
   ]
  },
  {
   "cell_type": "code",
   "execution_count": 9,
   "metadata": {},
   "outputs": [],
   "source": [
    "# Format each of the mean dictionaries to a .csv file and save it\n",
    "for combination, means in wt_d_combinations2means.items():\n",
    "    iops.format_means_to_table(\n",
    "        wt_d_combinations2means[combination],\n",
    "        output_path=f\"{RESULT}/wt_{combination}_interactions.csv\",\n",
    "    )\n",
    "\n",
    "for combination, means in muts23_d_combinations2means.items():\n",
    "    iops.format_means_to_table(\n",
    "        muts23_d_combinations2means[combination],\n",
    "        output_path=f\"{RESULT}/muts23_{combination}_interactions.csv\",\n",
    "    )\n",
    "\n",
    "for combination, means in mut4xh4_d_combinations2means.items():\n",
    "    iops.format_means_to_table(\n",
    "        mut4xh4_d_combinations2means[combination],\n",
    "        output_path=f\"{RESULT}/mut4xh4_{combination}_interactions.csv\",\n",
    "    )"
   ]
  },
  {
   "cell_type": "code",
   "execution_count": 17,
   "metadata": {},
   "outputs": [],
   "source": [
    "slosh_dataset = {}\n",
    "for combination in d_combinations2arrays_combined.keys():\n",
    "        # This loop goest through the same combinations lots of times, this has to be fixed\n",
    "            slosh_dataset[f\"{combination}\"] = {\n",
    "                strain : pd.read_csv(f\"{RESULT}/{strain}_{combination}_interactions.csv\") for strain in strains\n",
    "                }"
   ]
  }
 ],
 "metadata": {
  "interpreter": {
   "hash": "6c651144440c1aeec3027a9600178a13e028b6a36664423ef2ed70684e4fc7e7"
  },
  "kernelspec": {
   "display_name": "Python 3.9.7 64-bit ('iav_splash-dev': conda)",
   "name": "python3"
  },
  "language_info": {
   "codemirror_mode": {
    "name": "ipython",
    "version": 3
   },
   "file_extension": ".py",
   "mimetype": "text/x-python",
   "name": "python",
   "nbconvert_exporter": "python",
   "pygments_lexer": "ipython3",
   "version": "3.9.7"
  },
  "orig_nbformat": 4
 },
 "nbformat": 4,
 "nbformat_minor": 2
}
