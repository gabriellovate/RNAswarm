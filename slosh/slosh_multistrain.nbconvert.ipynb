{
 "cells": [
  {
   "cell_type": "code",
   "execution_count": 1,
   "metadata": {
    "execution": {
     "iopub.execute_input": "2021-10-19T23:07:12.530093Z",
     "iopub.status.busy": "2021-10-19T23:07:12.527806Z",
     "iopub.status.idle": "2021-10-19T23:07:27.314197Z",
     "shell.execute_reply": "2021-10-19T23:07:27.312271Z"
    }
   },
   "outputs": [],
   "source": [
    "# Import functions for analysis of SPLASH np.arrays\n",
    "import io_ops as iops\n",
    "import find_interactions as fi\n",
    "import pandas as pd"
   ]
  },
  {
   "cell_type": "code",
   "execution_count": 2,
   "metadata": {
    "execution": {
     "iopub.execute_input": "2021-10-19T23:07:27.327753Z",
     "iopub.status.busy": "2021-10-19T23:07:27.325819Z",
     "iopub.status.idle": "2021-10-19T23:07:27.330132Z",
     "shell.execute_reply": "2021-10-19T23:07:27.331585Z"
    }
   },
   "outputs": [],
   "source": [
    "# Define file paths and viral features:\n",
    "DIRECTORY = \"/home/ru27wav/Projects/gl_iav-splash_freiburg\"\n",
    "INPUT = f\"{DIRECTORY}/data/arrays_IAV_wt_vs_mut\"\n",
    "RESULT = f\"{DIRECTORY}/results/IAV_wt_vs_mut\"\n",
    "iav_segments = [\"PB2\", \"PB1\", \"PA\", \"HA\", \"NP\", \"NA\", \"M\", \"NS\"]\n",
    "strains = [\"wt\", \"mut\"]"
   ]
  },
  {
   "cell_type": "code",
   "execution_count": 3,
   "metadata": {
    "execution": {
     "iopub.execute_input": "2021-10-19T23:07:27.344177Z",
     "iopub.status.busy": "2021-10-19T23:07:27.343048Z",
     "iopub.status.idle": "2021-10-19T23:07:57.004439Z",
     "shell.execute_reply": "2021-10-19T23:07:57.004175Z"
    }
   },
   "outputs": [],
   "source": [
    "# Read the arrays from file and put them into dictionaries\n",
    "wt_d_repDir2Combinations, wt_d_combinations2arrays = iops.read_arrays(\n",
    "    f'{INPUT}/wt', iav_segments\n",
    ")\n",
    "\n",
    "mut_d_repDir2Combinations, mut_d_combinations2arrays = iops.read_arrays(\n",
    "    f'{INPUT}/mut', iav_segments\n",
    ")"
   ]
  },
  {
   "cell_type": "code",
   "execution_count": 4,
   "metadata": {
    "execution": {
     "iopub.execute_input": "2021-10-19T23:07:57.007996Z",
     "iopub.status.busy": "2021-10-19T23:07:57.007630Z",
     "iopub.status.idle": "2021-10-19T23:07:58.379800Z",
     "shell.execute_reply": "2021-10-19T23:07:58.379541Z"
    }
   },
   "outputs": [],
   "source": [
    "# Unpack the arrays and filter the regions with readcounts greater than the mean of all values...\n",
    "wt_d_combinations2arrays_filtered = {}\n",
    "for combination, arrays in wt_d_combinations2arrays.items():\n",
    "    for i in range(len(arrays)):\n",
    "        if i == 0:\n",
    "            wt_d_combinations2arrays_filtered[combination] = [fi.mean_filter(arrays[i])]\n",
    "        else:\n",
    "            wt_d_combinations2arrays_filtered[combination].append(\n",
    "                fi.mean_filter(arrays[i])\n",
    "            )\n",
    "\n",
    "mut_d_combinations2arrays_filtered = {}\n",
    "for combination, arrays in mut_d_combinations2arrays.items():\n",
    "    for i in range(len(arrays)):\n",
    "        if i == 0:\n",
    "            mut_d_combinations2arrays_filtered[combination] = [fi.mean_filter(arrays[i])]\n",
    "        else:\n",
    "            mut_d_combinations2arrays_filtered[combination].append(\n",
    "                fi.mean_filter(arrays[i])\n",
    "            )"
   ]
  },
  {
   "cell_type": "code",
   "execution_count": 5,
   "metadata": {
    "execution": {
     "iopub.execute_input": "2021-10-19T23:07:58.382395Z",
     "iopub.status.busy": "2021-10-19T23:07:58.382110Z",
     "iopub.status.idle": "2021-10-19T23:07:58.515117Z",
     "shell.execute_reply": "2021-10-19T23:07:58.515341Z"
    }
   },
   "outputs": [],
   "source": [
    "# Merge the binary arrays\n",
    "# This is kind of a hack (ugly hack), it doesn't generalize very well\n",
    "\n",
    "d_combinations2arrays_combined = {}\n",
    "for combination, arrays in wt_d_combinations2arrays_filtered.items():\n",
    "    arrays.append(mut_d_combinations2arrays_filtered[combination][0])\n",
    "    d_combinations2arrays_combined[combination] = fi.combine_filters(arrays)\n"
   ]
  },
  {
   "cell_type": "code",
   "execution_count": 6,
   "metadata": {
    "execution": {
     "iopub.execute_input": "2021-10-19T23:07:58.552409Z",
     "iopub.status.busy": "2021-10-19T23:07:58.537073Z",
     "iopub.status.idle": "2021-10-19T23:10:03.589985Z",
     "shell.execute_reply": "2021-10-19T23:10:03.588656Z"
    }
   },
   "outputs": [],
   "source": [
    "# Create a dictionary of coordinates\n",
    "d_combinations2coordinates = {}\n",
    "for combination, array in d_combinations2arrays_combined.items():\n",
    "    d_combinations2coordinates[combination] = fi.extract_coordinates(array)"
   ]
  },
  {
   "cell_type": "code",
   "execution_count": 7,
   "metadata": {
    "execution": {
     "iopub.execute_input": "2021-10-19T23:10:03.668289Z",
     "iopub.status.busy": "2021-10-19T23:10:03.666535Z",
     "iopub.status.idle": "2021-10-19T23:38:54.088084Z",
     "shell.execute_reply": "2021-10-19T23:38:54.087661Z"
    }
   },
   "outputs": [],
   "source": [
    "# Create a dictionary of regions\n",
    "d_combinations2regions = {}\n",
    "for combination, coordinates in d_combinations2coordinates.items():\n",
    "    d_combinations2regions[combination] = fi.extract_regions(coordinates)"
   ]
  },
  {
   "cell_type": "code",
   "execution_count": 8,
   "metadata": {
    "execution": {
     "iopub.execute_input": "2021-10-19T23:38:54.154016Z",
     "iopub.status.busy": "2021-10-19T23:38:54.153722Z",
     "iopub.status.idle": "2021-10-19T23:39:04.005454Z",
     "shell.execute_reply": "2021-10-19T23:39:04.003692Z"
    }
   },
   "outputs": [],
   "source": [
    "for combination, values in d_combinations2regions.items():\n",
    "    pd.DataFrame.from_dict(d_combinations2regions, orient='index').to_csv(f\"{RESULT}/{combination}.csv\")"
   ]
  },
  {
   "cell_type": "code",
   "execution_count": 9,
   "metadata": {
    "execution": {
     "iopub.execute_input": "2021-10-19T23:39:04.058363Z",
     "iopub.status.busy": "2021-10-19T23:39:04.053007Z",
     "iopub.status.idle": "2021-10-19T23:39:04.952187Z",
     "shell.execute_reply": "2021-10-19T23:39:04.951823Z"
    }
   },
   "outputs": [],
   "source": [
    "# Create a dictionary of the mean countvalue for each region\n",
    "wt_d_combinations2means = {}\n",
    "for combination, regions in d_combinations2regions.items():\n",
    "    wt_d_combinations2means[combination] = [\n",
    "        fi.readcounts_to_means(regions, array)\n",
    "        for array in wt_d_combinations2arrays[combination]\n",
    "    ]\n",
    "\n",
    "mut_d_combinations2means = {}\n",
    "for combination, regions in d_combinations2regions.items():\n",
    "    mut_d_combinations2means[combination] = [\n",
    "        fi.readcounts_to_means(regions, array)\n",
    "        for array in mut_d_combinations2arrays[combination]\n",
    "    ]"
   ]
  },
  {
   "cell_type": "code",
   "execution_count": 10,
   "metadata": {
    "execution": {
     "iopub.execute_input": "2021-10-19T23:39:04.962621Z",
     "iopub.status.busy": "2021-10-19T23:39:04.962322Z",
     "iopub.status.idle": "2021-10-19T23:39:07.194471Z",
     "shell.execute_reply": "2021-10-19T23:39:07.194829Z"
    }
   },
   "outputs": [],
   "source": [
    "# Format each of the mean dictionaries to a .csv file and save it\n",
    "for combination, means in wt_d_combinations2means.items():\n",
    "    iops.format_means_to_table(\n",
    "        wt_d_combinations2means[combination],\n",
    "        output_path=f\"{RESULT}/wt_{combination}_interactions.csv\",\n",
    "    )\n",
    "\n",
    "for combination, means in mut_d_combinations2means.items():\n",
    "    iops.format_means_to_table(\n",
    "        mut_d_combinations2means[combination],\n",
    "        output_path=f\"{RESULT}/mut_{combination}_interactions.csv\",\n",
    "    )"
   ]
  },
  {
   "cell_type": "code",
   "execution_count": 11,
   "metadata": {
    "execution": {
     "iopub.execute_input": "2021-10-19T23:39:07.200096Z",
     "iopub.status.busy": "2021-10-19T23:39:07.199707Z",
     "iopub.status.idle": "2021-10-19T23:39:07.641075Z",
     "shell.execute_reply": "2021-10-19T23:39:07.640435Z"
    }
   },
   "outputs": [],
   "source": [
    "slosh_dataset = {}\n",
    "for combination in d_combinations2arrays_combined.keys():\n",
    "        # This loop goest through the same combinations lots of times, (ugly hack) this has to be fixed\n",
    "            slosh_dataset[f\"{combination}\"] = {\n",
    "                strain : pd.read_csv(f\"{RESULT}/{strain}_{combination}_interactions.csv\", index_col=0, header=None,) for strain in strains\n",
    "                }"
   ]
  },
  {
   "cell_type": "code",
   "execution_count": 12,
   "metadata": {
    "execution": {
     "iopub.execute_input": "2021-10-19T23:39:07.705260Z",
     "iopub.status.busy": "2021-10-19T23:39:07.704863Z",
     "iopub.status.idle": "2021-10-19T23:39:28.975709Z",
     "shell.execute_reply": "2021-10-19T23:39:28.975454Z"
    }
   },
   "outputs": [],
   "source": [
    "# Change column name of dataframes\n",
    "for combination, strain2df in slosh_dataset.items():\n",
    "    for strain, df in strain2df.items():\n",
    "        slosh_dataset[combination][strain].columns = [strain for i in range(len(slosh_dataset[combination][strain].columns))]\n",
    "\n",
    "# Consolidate dataframes\n",
    "slosh_dataset_consolidated = {}\n",
    "for combination, strain2df in slosh_dataset.items():\n",
    "    slosh_dataset_consolidated[combination] = pd.concat([df for df in strain2df.values()], axis=1)\n",
    "\n",
    "# Rename interaction ids\n",
    "for combination, df in slosh_dataset_consolidated.items():\n",
    "    for id in df.index:\n",
    "        df = df.rename(index={id: f\"{combination}-{id}\"})\n",
    "    slosh_dataset_consolidated[combination] = df\n",
    "\n",
    "slosh_df = pd.concat(slosh_dataset_consolidated.values(), axis=0)"
   ]
  },
  {
   "cell_type": "code",
   "execution_count": 13,
   "metadata": {
    "execution": {
     "iopub.execute_input": "2021-10-19T23:39:29.079434Z",
     "iopub.status.busy": "2021-10-19T23:39:29.039399Z",
     "iopub.status.idle": "2021-10-19T23:39:29.256718Z",
     "shell.execute_reply": "2021-10-19T23:39:29.256961Z"
    }
   },
   "outputs": [
    {
     "data": {
      "text/html": [
       "<div>\n",
       "<style scoped>\n",
       "    .dataframe tbody tr th:only-of-type {\n",
       "        vertical-align: middle;\n",
       "    }\n",
       "\n",
       "    .dataframe tbody tr th {\n",
       "        vertical-align: top;\n",
       "    }\n",
       "\n",
       "    .dataframe thead th {\n",
       "        text-align: right;\n",
       "    }\n",
       "</style>\n",
       "<table border=\"1\" class=\"dataframe\">\n",
       "  <thead>\n",
       "    <tr style=\"text-align: right;\">\n",
       "      <th></th>\n",
       "      <th>wt</th>\n",
       "      <th>wt</th>\n",
       "      <th>wt</th>\n",
       "      <th>mut</th>\n",
       "      <th>mut</th>\n",
       "      <th>mut</th>\n",
       "    </tr>\n",
       "    <tr>\n",
       "      <th>0</th>\n",
       "      <th></th>\n",
       "      <th></th>\n",
       "      <th></th>\n",
       "      <th></th>\n",
       "      <th></th>\n",
       "      <th></th>\n",
       "    </tr>\n",
       "  </thead>\n",
       "  <tbody>\n",
       "    <tr>\n",
       "      <th>HA_PA-1</th>\n",
       "      <td>86</td>\n",
       "      <td>25</td>\n",
       "      <td>151</td>\n",
       "      <td>0</td>\n",
       "      <td>0</td>\n",
       "      <td>0</td>\n",
       "    </tr>\n",
       "    <tr>\n",
       "      <th>HA_PA-2</th>\n",
       "      <td>86</td>\n",
       "      <td>26</td>\n",
       "      <td>155</td>\n",
       "      <td>0</td>\n",
       "      <td>0</td>\n",
       "      <td>0</td>\n",
       "    </tr>\n",
       "    <tr>\n",
       "      <th>HA_PA-3</th>\n",
       "      <td>87</td>\n",
       "      <td>26</td>\n",
       "      <td>159</td>\n",
       "      <td>2</td>\n",
       "      <td>2</td>\n",
       "      <td>2</td>\n",
       "    </tr>\n",
       "    <tr>\n",
       "      <th>HA_PA-4</th>\n",
       "      <td>90</td>\n",
       "      <td>28</td>\n",
       "      <td>159</td>\n",
       "      <td>2</td>\n",
       "      <td>2</td>\n",
       "      <td>2</td>\n",
       "    </tr>\n",
       "    <tr>\n",
       "      <th>HA_PA-5</th>\n",
       "      <td>92</td>\n",
       "      <td>28</td>\n",
       "      <td>162</td>\n",
       "      <td>2</td>\n",
       "      <td>2</td>\n",
       "      <td>2</td>\n",
       "    </tr>\n",
       "    <tr>\n",
       "      <th>...</th>\n",
       "      <td>...</td>\n",
       "      <td>...</td>\n",
       "      <td>...</td>\n",
       "      <td>...</td>\n",
       "      <td>...</td>\n",
       "      <td>...</td>\n",
       "    </tr>\n",
       "    <tr>\n",
       "      <th>NP_NP-1189</th>\n",
       "      <td>75</td>\n",
       "      <td>37</td>\n",
       "      <td>100</td>\n",
       "      <td>79</td>\n",
       "      <td>79</td>\n",
       "      <td>79</td>\n",
       "    </tr>\n",
       "    <tr>\n",
       "      <th>NP_NP-1190</th>\n",
       "      <td>100</td>\n",
       "      <td>75</td>\n",
       "      <td>76</td>\n",
       "      <td>281</td>\n",
       "      <td>281</td>\n",
       "      <td>281</td>\n",
       "    </tr>\n",
       "    <tr>\n",
       "      <th>NP_NP-1191</th>\n",
       "      <td>86</td>\n",
       "      <td>28</td>\n",
       "      <td>69</td>\n",
       "      <td>112</td>\n",
       "      <td>112</td>\n",
       "      <td>112</td>\n",
       "    </tr>\n",
       "    <tr>\n",
       "      <th>NP_NP-1192</th>\n",
       "      <td>66</td>\n",
       "      <td>83</td>\n",
       "      <td>293</td>\n",
       "      <td>133</td>\n",
       "      <td>133</td>\n",
       "      <td>133</td>\n",
       "    </tr>\n",
       "    <tr>\n",
       "      <th>NP_NP-1193</th>\n",
       "      <td>140</td>\n",
       "      <td>34</td>\n",
       "      <td>229</td>\n",
       "      <td>62</td>\n",
       "      <td>62</td>\n",
       "      <td>62</td>\n",
       "    </tr>\n",
       "  </tbody>\n",
       "</table>\n",
       "<p>44621 rows × 6 columns</p>\n",
       "</div>"
      ],
      "text/plain": [
       "             wt  wt   wt  mut  mut  mut\n",
       "0                                      \n",
       "HA_PA-1      86  25  151    0    0    0\n",
       "HA_PA-2      86  26  155    0    0    0\n",
       "HA_PA-3      87  26  159    2    2    2\n",
       "HA_PA-4      90  28  159    2    2    2\n",
       "HA_PA-5      92  28  162    2    2    2\n",
       "...         ...  ..  ...  ...  ...  ...\n",
       "NP_NP-1189   75  37  100   79   79   79\n",
       "NP_NP-1190  100  75   76  281  281  281\n",
       "NP_NP-1191   86  28   69  112  112  112\n",
       "NP_NP-1192   66  83  293  133  133  133\n",
       "NP_NP-1193  140  34  229   62   62   62\n",
       "\n",
       "[44621 rows x 6 columns]"
      ]
     },
     "execution_count": 13,
     "metadata": {},
     "output_type": "execute_result"
    }
   ],
   "source": [
    "# Generate dataframe with fake data (ugly hack)\n",
    "slosh_df = pd.concat([slosh_df, slosh_df[\"mut\"], slosh_df[\"mut\"]], axis=1)\n",
    "slosh_df"
   ]
  },
  {
   "cell_type": "code",
   "execution_count": 14,
   "metadata": {
    "execution": {
     "iopub.execute_input": "2021-10-19T23:39:29.259907Z",
     "iopub.status.busy": "2021-10-19T23:39:29.259625Z",
     "iopub.status.idle": "2021-10-19T23:39:29.386553Z",
     "shell.execute_reply": "2021-10-19T23:39:29.384769Z"
    }
   },
   "outputs": [],
   "source": [
    "slosh_df.to_csv(f\"{RESULT}/wt_mut_interactions.csv\")"
   ]
  },
  {
   "cell_type": "code",
   "execution_count": 15,
   "metadata": {
    "execution": {
     "iopub.execute_input": "2021-10-19T23:39:29.395501Z",
     "iopub.status.busy": "2021-10-19T23:39:29.394112Z",
     "iopub.status.idle": "2021-10-19T23:39:29.397818Z",
     "shell.execute_reply": "2021-10-19T23:39:29.398908Z"
    }
   },
   "outputs": [],
   "source": [
    "# Manually run R script (ugly hack)"
   ]
  },
  {
   "cell_type": "code",
   "execution_count": 16,
   "metadata": {
    "execution": {
     "iopub.execute_input": "2021-10-19T23:39:29.408548Z",
     "iopub.status.busy": "2021-10-19T23:39:29.407133Z",
     "iopub.status.idle": "2021-10-19T23:39:29.827040Z",
     "shell.execute_reply": "2021-10-19T23:39:29.826174Z"
    }
   },
   "outputs": [],
   "source": [
    "deseq2_output = pd.read_csv(f\"/home/ru27wav/Projects/gl_iav-splash_freiburg/results/IAV_wt_vs_mut/deseq2_output_wt_mut_interactions.csv\", index_col=0, header=0)"
   ]
  }
 ],
 "metadata": {
  "interpreter": {
   "hash": "6c651144440c1aeec3027a9600178a13e028b6a36664423ef2ed70684e4fc7e7"
  },
  "kernelspec": {
   "display_name": "Python 3.9.7 64-bit ('iav_splash-dev': conda)",
   "name": "python3"
  },
  "language_info": {
   "codemirror_mode": {
    "name": "ipython",
    "version": 3
   },
   "file_extension": ".py",
   "mimetype": "text/x-python",
   "name": "python",
   "nbconvert_exporter": "python",
   "pygments_lexer": "ipython3",
   "version": "3.9.7"
  }
 },
 "nbformat": 4,
 "nbformat_minor": 2
}
