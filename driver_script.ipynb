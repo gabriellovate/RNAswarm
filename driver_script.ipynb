{
 "metadata": {
  "language_info": {
   "codemirror_mode": {
    "name": "ipython",
    "version": 3
   },
   "file_extension": ".py",
   "mimetype": "text/x-python",
   "name": "python",
   "nbconvert_exporter": "python",
   "pygments_lexer": "ipython3",
   "version": 3
  },
  "orig_nbformat": 2
 },
 "nbformat": 4,
 "nbformat_minor": 2,
 "cells": [
  {
   "cell_type": "code",
   "execution_count": null,
   "metadata": {},
   "outputs": [],
   "source": [
    "DIRECTORY = '/data/dessertlocal/projects/gl_iav-splash_freiburg/'  \n",
    "INPUT = f'{DIRECTORY}data/arrays/'\n",
    "RESULT = f'{DIRECTORY}results/202104/20200416/'\n",
    "iav_segments = ['PB2','PB1','PA','HA','NP','NA','M','NS']\n",
    "\n",
    "# \n",
    "wt_d_repDir2Combinations, wt_d_combination2Array = read_arrays(INPUT, iav_segments)\n",
    "# \n",
    "wt_d_comb2variances = calculate_variances(wt_d_combination2Array)\n",
    "# \n",
    "check_heatmaps(wt_d_comb2variances, RESULT)\n"
   ]
  }
 ]
}