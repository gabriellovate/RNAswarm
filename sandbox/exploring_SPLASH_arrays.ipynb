{
 "metadata": {
  "language_info": {
   "codemirror_mode": {
    "name": "ipython",
    "version": 3
   },
   "file_extension": ".py",
   "mimetype": "text/x-python",
   "name": "python",
   "nbconvert_exporter": "python",
   "pygments_lexer": "ipython3",
   "version": "3.9.2-final"
  },
  "orig_nbformat": 2,
  "kernelspec": {
   "name": "python3",
   "display_name": "Python 3.9.2 64-bit ('iav-splash': conda)",
   "metadata": {
    "interpreter": {
     "hash": "d97b46ae82dde0b7c7adb62cb27fee5a0360acd6521fb8fc516600e4dc4a00d5"
    }
   }
  }
 },
 "nbformat": 4,
 "nbformat_minor": 2,
 "cells": [
  {
   "cell_type": "code",
   "execution_count": 2,
   "metadata": {},
   "outputs": [
    {
     "output_type": "stream",
     "name": "stdout",
     "text": [
      "/data/fass2/reads/gl_iav-splash_freiburg/R1_wt_npy\n"
     ]
    }
   ],
   "source": [
    "%cd ../../data/reads/R1_wt_npy"
   ]
  },
  {
   "cell_type": "code",
   "execution_count": 4,
   "metadata": {},
   "outputs": [],
   "source": [
    "import numpy as np"
   ]
  },
  {
   "cell_type": "code",
   "execution_count": 5,
   "metadata": {},
   "outputs": [
    {
     "output_type": "stream",
     "name": "stdout",
     "text": [
      "[[  0.   0.   0. ... 151. 147.  34.]\n [  0.   0.   0. ... 169. 165.  35.]\n [  0.   0.   0. ... 175. 170.  38.]\n ...\n [  0.   0.   0. ...   0.   0.   0.]\n [  0.   0.   0. ...   0.   0.   0.]\n [  0.   0.   0. ...  32.  31.  30.]]\n"
     ]
    }
   ],
   "source": [
    "test = np.load('splash_q20_noN_min6_R1_1120_wtI_cs1_HA_HA_inf.npy')\n",
    "print(test)"
   ]
  },
  {
   "cell_type": "code",
   "execution_count": null,
   "metadata": {},
   "outputs": [],
   "source": []
  }
 ]
}