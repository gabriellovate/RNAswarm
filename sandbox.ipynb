{
 "metadata": {
  "language_info": {
   "codemirror_mode": {
    "name": "ipython",
    "version": 3
   },
   "file_extension": ".py",
   "mimetype": "text/x-python",
   "name": "python",
   "nbconvert_exporter": "python",
   "pygments_lexer": "ipython3",
   "version": "3.8.8-final"
  },
  "orig_nbformat": 2,
  "kernelspec": {
   "name": "python388jvsc74a57bd0d97b46ae82dde0b7c7adb62cb27fee5a0360acd6521fb8fc516600e4dc4a00d5",
   "display_name": "Python 3.8.8 64-bit"
  }
 },
 "nbformat": 4,
 "nbformat_minor": 2,
 "cells": [
  {
   "cell_type": "code",
   "execution_count": 22,
   "metadata": {},
   "outputs": [],
   "source": [
    "import numpy as np\n",
    "import re"
   ]
  },
  {
   "cell_type": "code",
   "execution_count": 20,
   "metadata": {},
   "outputs": [],
   "source": [
    "def read_arrays(data_directory, segment_names):\n",
    "    \"\"\"        \n",
    "    \"\"\"\n",
    "    d_repDir2Combinations = {}\n",
    "    d_combination2Array = {}\n",
    "    segment_combinations = [f'{segment_name}_{segment_name}'\n",
    "                            for segment_name in segment_names \n",
    "                            for segment_name in segment_names]\n",
    "\n",
    "    replicateDirs = os.listdir(data_directory)\n",
    "    for repDir in replicateDirs:\n",
    "        allCombinations = os.listdir(f'{data_directory}/{repDir}')\n",
    "        d_repDir2Combinations[repDir] = allCombinations\n",
    "\n",
    "        for combination in allCombinations:\n",
    "            uniqueID = f'{os.path.basename(repDir)}{combination[39:-8]}'\n",
    "            array = np.load(f'{data_directory}/{repDir}/{combination}')\n",
    "\n",
    "            if d_combination2Array[uniqueID]:\n",
    "                d_combination2Array[uniqueID].extend(array)\n",
    "            else:\n",
    "                d_combination2Array[uniqueID] = [array]\n",
    "\n",
    "    return (d_repDir2Combinations, d_combination2Array)"
   ]
  },
  {
   "cell_type": "code",
   "execution_count": 2,
   "metadata": {},
   "outputs": [],
   "source": [
    "def calculate_variances(d_arrays):\n",
    "    \"\"\"\n",
    "    Takes a dictionary with numpy arrays and calculates the variance for each unique entry.\n",
    "\n",
    "    Input:\n",
    "        d_arrays -- {'uniqueName' : [np.arrays]}\n",
    "\n",
    "    Return:\n",
    "        d_comb2variance -- {'uniqueName' : np.array}\n",
    "    \n",
    "    \"\"\"\n",
    "    d_comb2variance = {}\n",
    "    for combination, l_countTable in d_arrays.items():\n",
    "        d_comb2variance[combination] = np.var(l_countTable, axis=0)\n",
    "    \n",
    "    return d_comb2variance"
   ]
  },
  {
   "source": [
    "%ls\n",
    "%pwd"
   ],
   "cell_type": "code",
   "metadata": {},
   "execution_count": 4,
   "outputs": [
    {
     "output_type": "stream",
     "name": "stdout",
     "text": [
      "\u001b[0m\u001b[01;34mdata\u001b[0m/  \u001b[01;34mresults\u001b[0m/  sandbox.ipynb  \u001b[01;34msrc\u001b[0m/\n"
     ]
    },
    {
     "output_type": "execute_result",
     "data": {
      "text/plain": [
       "'/data/dessertlocal/projects/gl_iav-splash_freiburg'"
      ]
     },
     "metadata": {},
     "execution_count": 4
    }
   ]
  },
  {
   "cell_type": "code",
   "execution_count": 24,
   "metadata": {},
   "outputs": [
    {
     "output_type": "stream",
     "name": "stdout",
     "text": [
      "['PB2_PB2', 'PB1_PB1', 'PA_PA', 'HA_HA', 'NP_NP', 'NA_NA', 'M_M', 'NS_NS', 'PB2_PB2', 'PB1_PB1', 'PA_PA', 'HA_HA', 'NP_NP', 'NA_NA', 'M_M', 'NS_NS', 'PB2_PB2', 'PB1_PB1', 'PA_PA', 'HA_HA', 'NP_NP', 'NA_NA', 'M_M', 'NS_NS', 'PB2_PB2', 'PB1_PB1', 'PA_PA', 'HA_HA', 'NP_NP', 'NA_NA', 'M_M', 'NS_NS', 'PB2_PB2', 'PB1_PB1', 'PA_PA', 'HA_HA', 'NP_NP', 'NA_NA', 'M_M', 'NS_NS', 'PB2_PB2', 'PB1_PB1', 'PA_PA', 'HA_HA', 'NP_NP', 'NA_NA', 'M_M', 'NS_NS', 'PB2_PB2', 'PB1_PB1', 'PA_PA', 'HA_HA', 'NP_NP', 'NA_NA', 'M_M', 'NS_NS', 'PB2_PB2', 'PB1_PB1', 'PA_PA', 'HA_HA', 'NP_NP', 'NA_NA', 'M_M', 'NS_NS']\n"
     ]
    }
   ],
   "source": [
    "DIRECTORY = '/data/dessertlocal/projects/gl_iav-splash_freiburg/'  \n",
    "INPUT = f'{DIRECTORY}/data/arrays/'\n",
    "RESULT = f'{DIRECTORY}/results/202104/20200412'\n",
    "iav_segments = ['PB2','PB1','PA','HA','NP','NA','M','NS']"
   ]
  },
  {
   "cell_type": "code",
   "execution_count": 21,
   "metadata": {},
   "outputs": [
    {
     "output_type": "stream",
     "name": "stdout",
     "text": [
      "wt1120_I/PA\n"
     ]
    },
    {
     "output_type": "error",
     "ename": "KeyError",
     "evalue": "'wt1120_I/PA'",
     "traceback": [
      "\u001b[0;31m---------------------------------------------------------------------------\u001b[0m",
      "\u001b[0;31mKeyError\u001b[0m                                  Traceback (most recent call last)",
      "\u001b[0;32m<ipython-input-21-62035080adac>\u001b[0m in \u001b[0;36m<module>\u001b[0;34m\u001b[0m\n\u001b[0;32m----> 1\u001b[0;31m \u001b[0mwt_d_repDir2Combinations\u001b[0m\u001b[0;34m,\u001b[0m \u001b[0mwt_d_combination2Array\u001b[0m \u001b[0;34m=\u001b[0m \u001b[0mread_arrays\u001b[0m\u001b[0;34m(\u001b[0m\u001b[0mINPUT\u001b[0m\u001b[0;34m)\u001b[0m\u001b[0;34m\u001b[0m\u001b[0;34m\u001b[0m\u001b[0m\n\u001b[0m",
      "\u001b[0;32m<ipython-input-20-7225c18f3ce8>\u001b[0m in \u001b[0;36mread_arrays\u001b[0;34m(data_directory)\u001b[0m\n\u001b[1;32m     28\u001b[0m             \u001b[0;31m# dict = {'Seg1-Seg2' : [np.array(array01), np.array(array02),\u001b[0m\u001b[0;34m\u001b[0m\u001b[0;34m\u001b[0m\u001b[0;34m\u001b[0m\u001b[0m\n\u001b[1;32m     29\u001b[0m             \u001b[0;31m#                        np.array(array03)]}\u001b[0m\u001b[0;34m\u001b[0m\u001b[0;34m\u001b[0m\u001b[0;34m\u001b[0m\u001b[0m\n\u001b[0;32m---> 30\u001b[0;31m             \u001b[0;32mif\u001b[0m \u001b[0md_combination2Array\u001b[0m\u001b[0;34m[\u001b[0m\u001b[0muniqueID\u001b[0m\u001b[0;34m]\u001b[0m\u001b[0;34m:\u001b[0m\u001b[0;34m\u001b[0m\u001b[0;34m\u001b[0m\u001b[0m\n\u001b[0m\u001b[1;32m     31\u001b[0m                 \u001b[0md_combination2Array\u001b[0m\u001b[0;34m[\u001b[0m\u001b[0muniqueID\u001b[0m\u001b[0;34m]\u001b[0m\u001b[0;34m.\u001b[0m\u001b[0mextend\u001b[0m\u001b[0;34m(\u001b[0m\u001b[0marray\u001b[0m\u001b[0;34m)\u001b[0m\u001b[0;34m\u001b[0m\u001b[0;34m\u001b[0m\u001b[0m\n\u001b[1;32m     32\u001b[0m             \u001b[0;32melse\u001b[0m\u001b[0;34m:\u001b[0m\u001b[0;34m\u001b[0m\u001b[0;34m\u001b[0m\u001b[0m\n",
      "\u001b[0;31mKeyError\u001b[0m: 'wt1120_I/PA'"
     ]
    }
   ],
   "source": [
    "wt_d_repDir2Combinations, wt_d_combination2Array = read_arrays(INPUT)"
   ]
  },
  {
   "cell_type": "code",
   "execution_count": null,
   "metadata": {},
   "outputs": [],
   "source": []
  }
 ]
}