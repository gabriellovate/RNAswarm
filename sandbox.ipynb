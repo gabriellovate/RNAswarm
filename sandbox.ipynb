{
 "metadata": {
  "language_info": {
   "codemirror_mode": {
    "name": "ipython",
    "version": 3
   },
   "file_extension": ".py",
   "mimetype": "text/x-python",
   "name": "python",
   "nbconvert_exporter": "python",
   "pygments_lexer": "ipython3",
   "version": "3.8.8-final"
  },
  "orig_nbformat": 2,
  "kernelspec": {
   "name": "python3",
   "display_name": "Python 3.8.8 64-bit ('iav-splash': conda)",
   "metadata": {
    "interpreter": {
     "hash": "d97b46ae82dde0b7c7adb62cb27fee5a0360acd6521fb8fc516600e4dc4a00d5"
    }
   }
  }
 },
 "nbformat": 4,
 "nbformat_minor": 2,
 "cells": [
  {
   "cell_type": "code",
   "execution_count": 8,
   "metadata": {},
   "outputs": [],
   "source": [
    "import numpy as np\n",
    "import re"
   ]
  },
  {
   "cell_type": "code",
   "execution_count": 11,
   "metadata": {},
   "outputs": [],
   "source": [
    "iav_segments = ['PB2','PB1','PA','HA','NP','NA','M','NS']\n",
    "\n",
    "def regex_from_segments(viral_segments):\n",
    "    \"\"\"\n",
    "    Returns a compiled regex that finds \n",
    "    \"\"\"\n",
    "    segments_to_regex = ''\n",
    "    for viral_segment01 in viral_segments:\n",
    "        for viral_segment02 in viral_segments:\n",
    "            segments_to_regex = segments_to_regex + f'{viral_segment01}_{viral_segment02}|'\n",
    "    print(segments_to_regex[:-1])\n",
    "    compiled_regex = re.compile(segments_to_regex[:-1])\n",
    "    return compiled_regex\n",
    "\n",
    "regex_from_segments(iav_segments)"
   ]
  },
  {
   "cell_type": "code",
   "execution_count": 5,
   "metadata": {},
   "outputs": [],
   "source": [
    "def read_arrays(data_directory):\n",
    "    \"\"\"        \n",
    "    \"\"\"\n",
    "    d_repDir2Combinations = {}\n",
    "    d_combination2Array = {}\n",
    "\n",
    "    replicateDirs = os.listdir(data_directory)\n",
    "    for repDir in replicateDirs:\n",
    "        allCombinations = os.listdir(f'{data_directory}/{repDir}')\n",
    "        d_repDir2Combinations[repDir] = allCombinations\n",
    "\n",
    "        for combination in allCombinations:\n",
    "            \n",
    "            uniqueID = f'{os.path.basename(repDir)}{combination}'\n",
    "            array = np.load(f'{data_directory}/{repDir}/{combination}')\n",
    "\n",
    "            if d_combination2Array[uniqueID]:\n",
    "                d_combination2Array[uniqueID].extend(array)\n",
    "            else:\n",
    "                d_combination2Array[uniqueID] = [array]\n",
    "\n",
    "    return (d_repDir2Combinations, d_combination2Array)"
   ]
  },
  {
   "cell_type": "code",
   "execution_count": 6,
   "metadata": {},
   "outputs": [],
   "source": [
    "def calculate_variances(d_arrays):\n",
    "    \"\"\"\n",
    "    Takes a dictionary with numpy arrays and calculates the variance for each unique entry.\n",
    "\n",
    "    Input:\n",
    "        d_arrays -- {'uniqueName' : [np.arrays]}\n",
    "\n",
    "    Return:\n",
    "        d_comb2variance -- {'uniqueName' : np.array}\n",
    "    \n",
    "    \"\"\"\n",
    "    d_comb2variance = {}\n",
    "    for combination, l_countTable in d_arrays.items():\n",
    "        d_comb2variance[combination] = np.var(l_countTable, axis=0)\n",
    "    \n",
    "    return d_comb2variance"
   ]
  },
  {
   "source": [
    "%ls\n",
    "%pwd"
   ],
   "cell_type": "code",
   "metadata": {},
   "execution_count": 4,
   "outputs": [
    {
     "output_type": "stream",
     "name": "stdout",
     "text": [
      "\u001b[0m\u001b[01;34mdata\u001b[0m/  \u001b[01;34mresults\u001b[0m/  sandbox.ipynb  \u001b[01;34msrc\u001b[0m/\n"
     ]
    },
    {
     "output_type": "execute_result",
     "data": {
      "text/plain": [
       "'/data/dessertlocal/projects/gl_iav-splash_freiburg'"
      ]
     },
     "metadata": {},
     "execution_count": 4
    }
   ]
  },
  {
   "cell_type": "code",
   "execution_count": 9,
   "metadata": {},
   "outputs": [
    {
     "output_type": "stream",
     "name": "stdout",
     "text": [
      "['PB2_PB2', 'PB2_PB1', 'PB2_PA', 'PB2_HA', 'PB2_NP', 'PB2_NA', 'PB2_M', 'PB2_NS', 'PB1_PB2', 'PB1_PB1', 'PB1_PA', 'PB1_HA', 'PB1_NP', 'PB1_NA', 'PB1_M', 'PB1_NS', 'PA_PB2', 'PA_PB1', 'PA_PA', 'PA_HA', 'PA_NP', 'PA_NA', 'PA_M', 'PA_NS', 'HA_PB2', 'HA_PB1', 'HA_PA', 'HA_HA', 'HA_NP', 'HA_NA', 'HA_M', 'HA_NS', 'NP_PB2', 'NP_PB1', 'NP_PA', 'NP_HA', 'NP_NP', 'NP_NA', 'NP_M', 'NP_NS', 'NA_PB2', 'NA_PB1', 'NA_PA', 'NA_HA', 'NA_NP', 'NA_NA', 'NA_M', 'NA_NS', 'M_PB2', 'M_PB1', 'M_PA', 'M_HA', 'M_NP', 'M_NA', 'M_M', 'M_NS', 'NS_PB2', 'NS_PB1', 'NS_PA', 'NS_HA', 'NS_NP', 'NS_NA', 'NS_M', 'NS_NS']\n"
     ]
    }
   ],
   "source": [
    "DIRECTORY = '/data/dessertlocal/projects/gl_iav-splash_freiburg/'  \n",
    "INPUT = f'{DIRECTORY}/data/arrays/'\n",
    "RESULT = f'{DIRECTORY}/results/202104/20200412'\n",
    "iav_segments = ['PB2','PB1','PA','HA','NP','NA','M','NS']\n",
    "segment_combinations = [f'{segment_name01}_{segment_name02}'\n",
    "                        for segment_name01 in iav_segments \n",
    "                        for segment_name02 in iav_segments]\n",
    "print(segment_combinations)"
   ]
  },
  {
   "cell_type": "code",
   "execution_count": 10,
   "metadata": {},
   "outputs": [
    {
     "output_type": "error",
     "ename": "KeyError",
     "evalue": "'wt1120_Isplash_q20_noN_min6_R1_1120_wtI_cs1_HA_PA_inf.npy'",
     "traceback": [
      "\u001b[0;31m---------------------------------------------------------------------------\u001b[0m",
      "\u001b[0;31mKeyError\u001b[0m                                  Traceback (most recent call last)",
      "\u001b[0;32m<ipython-input-10-62035080adac>\u001b[0m in \u001b[0;36m<module>\u001b[0;34m\u001b[0m\n\u001b[0;32m----> 1\u001b[0;31m \u001b[0mwt_d_repDir2Combinations\u001b[0m\u001b[0;34m,\u001b[0m \u001b[0mwt_d_combination2Array\u001b[0m \u001b[0;34m=\u001b[0m \u001b[0mread_arrays\u001b[0m\u001b[0;34m(\u001b[0m\u001b[0mINPUT\u001b[0m\u001b[0;34m)\u001b[0m\u001b[0;34m\u001b[0m\u001b[0;34m\u001b[0m\u001b[0m\n\u001b[0m",
      "\u001b[0;32m<ipython-input-5-da54110281b0>\u001b[0m in \u001b[0;36mread_arrays\u001b[0;34m(data_directory)\u001b[0m\n\u001b[1;32m     14\u001b[0m             \u001b[0marray\u001b[0m \u001b[0;34m=\u001b[0m \u001b[0mnp\u001b[0m\u001b[0;34m.\u001b[0m\u001b[0mload\u001b[0m\u001b[0;34m(\u001b[0m\u001b[0;34mf'{data_directory}/{repDir}/{combination}'\u001b[0m\u001b[0;34m)\u001b[0m\u001b[0;34m\u001b[0m\u001b[0;34m\u001b[0m\u001b[0m\n\u001b[1;32m     15\u001b[0m \u001b[0;34m\u001b[0m\u001b[0m\n\u001b[0;32m---> 16\u001b[0;31m             \u001b[0;32mif\u001b[0m \u001b[0md_combination2Array\u001b[0m\u001b[0;34m[\u001b[0m\u001b[0muniqueID\u001b[0m\u001b[0;34m]\u001b[0m\u001b[0;34m:\u001b[0m\u001b[0;34m\u001b[0m\u001b[0;34m\u001b[0m\u001b[0m\n\u001b[0m\u001b[1;32m     17\u001b[0m                 \u001b[0md_combination2Array\u001b[0m\u001b[0;34m[\u001b[0m\u001b[0muniqueID\u001b[0m\u001b[0;34m]\u001b[0m\u001b[0;34m.\u001b[0m\u001b[0mextend\u001b[0m\u001b[0;34m(\u001b[0m\u001b[0marray\u001b[0m\u001b[0;34m)\u001b[0m\u001b[0;34m\u001b[0m\u001b[0;34m\u001b[0m\u001b[0m\n\u001b[1;32m     18\u001b[0m             \u001b[0;32melse\u001b[0m\u001b[0;34m:\u001b[0m\u001b[0;34m\u001b[0m\u001b[0;34m\u001b[0m\u001b[0m\n",
      "\u001b[0;31mKeyError\u001b[0m: 'wt1120_Isplash_q20_noN_min6_R1_1120_wtI_cs1_HA_PA_inf.npy'"
     ]
    }
   ],
   "source": [
    "wt_d_repDir2Combinations, wt_d_combination2Array = read_arrays(INPUT)"
   ]
  },
  {
   "cell_type": "code",
   "execution_count": null,
   "metadata": {},
   "outputs": [],
   "source": []
  }
 ]
}